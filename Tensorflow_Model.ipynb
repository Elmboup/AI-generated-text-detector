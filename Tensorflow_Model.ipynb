{
 "cells": [
  {
   "cell_type": "code",
   "execution_count": 1,
   "id": "db2493d3",
   "metadata": {},
   "outputs": [
    {
     "name": "stderr",
     "output_type": "stream",
     "text": [
      "2023-07-10 17:51:37.438135: I tensorflow/tsl/cuda/cudart_stub.cc:28] Could not find cuda drivers on your machine, GPU will not be used.\n",
      "2023-07-10 17:51:37.617885: I tensorflow/tsl/cuda/cudart_stub.cc:28] Could not find cuda drivers on your machine, GPU will not be used.\n",
      "2023-07-10 17:51:37.620281: I tensorflow/core/platform/cpu_feature_guard.cc:182] This TensorFlow binary is optimized to use available CPU instructions in performance-critical operations.\n",
      "To enable the following instructions: AVX2 FMA, in other operations, rebuild TensorFlow with the appropriate compiler flags.\n",
      "2023-07-10 17:51:38.776445: W tensorflow/compiler/tf2tensorrt/utils/py_utils.cc:38] TF-TRT Warning: Could not find TensorRT\n"
     ]
    }
   ],
   "source": [
    "import time\n",
    "import pandas as pd\n",
    "import numpy as np\n",
    "import joblib\n",
    "import tensorflow as tf\n",
    "from tensorflow.keras.models import Sequential\n",
    "from tensorflow.keras.layers import Dense\n",
    "from tensorflow.keras.optimizers import Adam"
   ]
  },
  {
   "cell_type": "code",
   "execution_count": 5,
   "id": "91092d7f",
   "metadata": {},
   "outputs": [
    {
     "name": "stdout",
     "output_type": "stream",
     "text": [
      "Defaulting to user installation because normal site-packages is not writeable\n",
      "Requirement already satisfied: pandas in /home/papamor/.local/lib/python3.10/site-packages (2.0.3)\n",
      "Requirement already satisfied: python-dateutil>=2.8.2 in /home/papamor/.local/lib/python3.10/site-packages (from pandas) (2.8.2)\n",
      "Requirement already satisfied: pytz>=2020.1 in /usr/lib/python3/dist-packages (from pandas) (2022.1)\n",
      "Requirement already satisfied: numpy>=1.21.0 in /home/papamor/.local/lib/python3.10/site-packages (from pandas) (1.24.3)\n",
      "Requirement already satisfied: tzdata>=2022.1 in /home/papamor/.local/lib/python3.10/site-packages (from pandas) (2023.3)\n",
      "Requirement already satisfied: six>=1.5 in /usr/lib/python3/dist-packages (from python-dateutil>=2.8.2->pandas) (1.16.0)\n",
      "Note: you may need to restart the kernel to use updated packages.\n"
     ]
    }
   ],
   "source": [
    "pip install pandas"
   ]
  },
  {
   "cell_type": "code",
   "execution_count": 2,
   "id": "472ff021",
   "metadata": {},
   "outputs": [],
   "source": [
    "from sklearn.model_selection import train_test_split"
   ]
  },
  {
   "cell_type": "code",
   "execution_count": 3,
   "id": "4f0841cc",
   "metadata": {},
   "outputs": [],
   "source": [
    "data = pd.read_csv(\"GPT-wiki-intro.csv\")\n",
    "data = data[:80000]\n",
    "intro = []\n",
    "target = []\n",
    "\n",
    "for i in data[\"wiki_intro\"]:\n",
    "    intro.append(i)\n",
    "    target.append(0)\n",
    "for j in data[\"generated_intro\"]:\n",
    "    intro.append(j)\n",
    "    target.append(1)\n",
    "\n",
    "intros = np.array(intro)\n",
    "targets = np.array(target)"
   ]
  },
  {
   "cell_type": "code",
   "execution_count": 8,
   "id": "256686b2",
   "metadata": {},
   "outputs": [],
   "source": [
    "# Diviser les données en ensembles d'entraînement et de test\n",
    "X_train, X_test, y_train, y_test = train_test_split(intros, targets, test_size=0.2, random_state=42)\n",
    "\n",
    "# Charger le vectorizer sauvegardé\n",
    "vectorizer = joblib.load(\"vectorizer\")\n",
    "\n",
    "# Appliquer le vectorizer sur les données de train et de test\n",
    "X_train_preprocessed = vectorizer.transform(X_train)\n",
    "X_test_preprocessed = vectorizer.transform(X_test)"
   ]
  },
  {
   "cell_type": "code",
   "execution_count": 6,
   "id": "06933a77",
   "metadata": {},
   "outputs": [],
   "source": [
    "# Créer le modèle de classification avec TensorFlow\n",
    "model = Sequential()\n",
    "model.add(Dense(64, activation='relu', input_dim=X_train_preprocessed.shape[1]))\n",
    "model.add(Dense(1, activation='sigmoid'))\n",
    "\n",
    "# Compiler le modèle\n",
    "model.compile(loss='binary_crossentropy', optimizer=Adam(), metrics=['accuracy'])\n"
   ]
  },
  {
   "cell_type": "code",
   "execution_count": 7,
   "id": "c8d602e5",
   "metadata": {},
   "outputs": [
    {
     "name": "stdout",
     "output_type": "stream",
     "text": [
      "Epoch 1/2\n",
      "4000/4000 [==============================] - 1019s 254ms/step - loss: 0.1730 - accuracy: 0.9333\n",
      "Epoch 2/2\n",
      "4000/4000 [==============================] - 1189s 297ms/step - loss: 0.0387 - accuracy: 0.9863\n"
     ]
    }
   ],
   "source": [
    "# Entraîner le modèle en utilisant le GPU si disponible\n",
    "with tf.device('/GPU:0'):\n",
    "    model.fit(X_train_preprocessed, y_train, epochs=2, batch_size=32)\n"
   ]
  },
  {
   "cell_type": "code",
   "execution_count": 11,
   "id": "ab1bbdad",
   "metadata": {},
   "outputs": [
    {
     "name": "stdout",
     "output_type": "stream",
     "text": [
      "1000/1000 [==============================] - 3s 3ms/step - loss: 0.2333 - accuracy: 0.9103\n",
      "Précision sur les données de test: 0.910281240940094\n"
     ]
    }
   ],
   "source": [
    "# Évaluer le modèle sur les données de test\n",
    "loss, accuracy = model.evaluate(X_test_preprocessed, y_test)\n",
    "\n",
    "print(\"Précision sur les données de test:\", accuracy)"
   ]
  },
  {
   "cell_type": "code",
   "execution_count": 12,
   "id": "a532a6f3",
   "metadata": {},
   "outputs": [
    {
     "name": "stdout",
     "output_type": "stream",
     "text": [
      "INFO:tensorflow:Assets written to: tensorflow_model/assets\n"
     ]
    },
    {
     "name": "stderr",
     "output_type": "stream",
     "text": [
      "INFO:tensorflow:Assets written to: tensorflow_model/assets\n"
     ]
    }
   ],
   "source": [
    "model.save(\"tensorflow_model\")"
   ]
  },
  {
   "cell_type": "code",
   "execution_count": 54,
   "id": "915b4556",
   "metadata": {},
   "outputs": [],
   "source": [
    "# Charger le vectorizer sauvegardé\n",
    "vectorizer = joblib.load(\"vectorizer\")\n",
    "loaded_model = tf.keras.models.load_model(\"tensorflow_model\")"
   ]
  },
  {
   "cell_type": "code",
   "execution_count": 72,
   "id": "12a3f8a8",
   "metadata": {},
   "outputs": [],
   "source": [
    "test = \"\"\" \n",
    "Clive Owen, an accomplished English actor born on October 3, 1964, has garnered recognition for his remarkable performances. Nominated three times for the BAFTA Award for Best Actor, Owen left an indelible mark on the film industry with his roles in \"The Wedding Singer\" (1998), \"Sweet and Lowdown\" (1999), and \"Mean Streets\" (2000). Hailing from Huddersfield, West Yorkshire, Owen's journey began as a mill clerk before he ventured into acting. His illustrious career commenced on the stage and then transitioned to the small screen with the television series \"Berkeley Square\" (1987). Owen's breakthrough in the 1990s came with notable films like \"The Winslow Boy\" (1994), \"Kes\" (1995), and \"The Power of One\" (1999). Since then, he has left an indelible mark with critically acclaimed performances in films such as \"The Artist\" (2011), where he received the Academy Award for Best Actor, \"Midnight in Paris\" (2011), \"The Grand Budapest Hotel\" (2014), \"Nocturnal Animals\" (2016), and his compelling role in the war film \"Dunkirk\" (2017).\"\"\""
   ]
  },
  {
   "cell_type": "code",
   "execution_count": 73,
   "id": "7c434948",
   "metadata": {},
   "outputs": [
    {
     "name": "stdout",
     "output_type": "stream",
     "text": [
      "1/1 [==============================] - 0s 15ms/step\n"
     ]
    }
   ],
   "source": [
    "test_process = vectorizer.transform([test])\n",
    "\n",
    "score  = loaded_model.predict(test_process)\n",
    "probabilities = tf.nn.softmax(score)"
   ]
  },
  {
   "cell_type": "code",
   "execution_count": 74,
   "id": "a7e9bb64",
   "metadata": {},
   "outputs": [],
   "source": [
    "#probabilities[0]"
   ]
  },
  {
   "cell_type": "code",
   "execution_count": 75,
   "id": "24441b2b",
   "metadata": {},
   "outputs": [
    {
     "name": "stdout",
     "output_type": "stream",
     "text": [
      "gpt 0.054063804\n"
     ]
    }
   ],
   "source": [
    "print(\"gpt\",score[0][0])"
   ]
  },
  {
   "cell_type": "code",
   "execution_count": 76,
   "id": "a11d7fe0",
   "metadata": {},
   "outputs": [
    {
     "name": "stdout",
     "output_type": "stream",
     "text": [
      "humain 0.9459361955523491\n"
     ]
    }
   ],
   "source": [
    "print(\"humain\",1-score[0][0])"
   ]
  },
  {
   "cell_type": "code",
   "execution_count": null,
   "id": "2a937c41",
   "metadata": {},
   "outputs": [],
   "source": []
  },
  {
   "cell_type": "code",
   "execution_count": 45,
   "id": "56e20ed1",
   "metadata": {},
   "outputs": [],
   "source": [
    "test_data = data = pd.read_csv(\"GPT-wiki-intro.csv\")[85000:90000]"
   ]
  },
  {
   "cell_type": "code",
   "execution_count": 46,
   "id": "316c0458",
   "metadata": {},
   "outputs": [
    {
     "data": {
      "text/plain": [
       "\"Tibor Feheregyhazi, CM (February 14, 1932, Budapest – July 10, 2007, Saskatoon, Saskatchewan) was a Hungarian-Canadian actor and director. He attended the National Theatre School in Montreal, Quebec. Feheregyhazi went on to become a resident director at the Manitoba Theatre Centre in Winnipeg, Manitoba, as well as artistic director of Magnus Theatre in Thunder Bay, Ontario and lastly, artistic director of the Persephone Theatre in Saskatoon, Saskatchewan. Background\\nTibor Feheregyhazi grew up in Budapest. Feheregyhazi's parents worked for the Hungarian National Radio. His mother was executive producer of music programming and his father was an economic journalist. When Feheregyhazi was 4 years old, he had his first radio performance at the station where his parents were employed. He attended a private Jesuit school in Danube before switching to a public high school. He enrolled at the National Hungarian Film and Theatre Academy and acted on stage and radio while at school. He graduated from high school in 1956.\""
      ]
     },
     "execution_count": 46,
     "metadata": {},
     "output_type": "execute_result"
    }
   ],
   "source": [
    "test_data[\"wiki_intro\"][85001]"
   ]
  },
  {
   "cell_type": "code",
   "execution_count": 47,
   "id": "00444c62",
   "metadata": {},
   "outputs": [
    {
     "data": {
      "text/plain": [
       "\"B. Kalyanasundaram (born 12 August 1947) is an Indian civil servant and diplomat who has been Secretary (External Affairs) in the Cabinet of India since May 2014. He served as the Permanent Representative of India to the United Nations from 2005 to 2014.\\n\\nKalyanasundaram was born in Palakkad, Kerala, on 12 August 1947. He graduated with a Bachelor of Arts degree from the University of Calcutta in 1967. He then studied at the University of Sussex, where he completed his Master of Arts degree in 1971.\\n\\nKalyanasundaram joined the Indian Foreign Service in 1971. He has served as an Ambassador (to Djibouti and Armenia) and a High Commissioner (to Bangladesh and Sri Lanka). From 2005 to 2014, he served as the Permanent Representative of India to the United Nations.\\n\\nIn January 2014, Kalyanasundaram was appointed Secretary (External Affairs) in the Cabinet of India. In this role, he is responsible for overseeing India's relations with foreign countries and international organisations.\""
      ]
     },
     "execution_count": 47,
     "metadata": {},
     "output_type": "execute_result"
    }
   ],
   "source": [
    "test_data[\"generated_intro\"][85053]"
   ]
  },
  {
   "cell_type": "code",
   "execution_count": null,
   "id": "f9b429b9",
   "metadata": {},
   "outputs": [],
   "source": []
  }
 ],
 "metadata": {
  "kernelspec": {
   "display_name": "Python 3 (ipykernel)",
   "language": "python",
   "name": "python3"
  },
  "language_info": {
   "codemirror_mode": {
    "name": "ipython",
    "version": 3
   },
   "file_extension": ".py",
   "mimetype": "text/x-python",
   "name": "python",
   "nbconvert_exporter": "python",
   "pygments_lexer": "ipython3",
   "version": "3.10.6"
  }
 },
 "nbformat": 4,
 "nbformat_minor": 5
}
