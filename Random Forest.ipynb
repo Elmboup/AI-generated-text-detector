{
 "cells": [
  {
   "cell_type": "code",
   "execution_count": 1,
   "id": "edec299b",
   "metadata": {},
   "outputs": [],
   "source": [
    "import time\n",
    "import pandas as pd \n",
    "import numpy as np\n",
    "import joblib\n",
    "from sklearn.metrics import classification_report"
   ]
  },
  {
   "cell_type": "code",
   "execution_count": 2,
   "id": "c30cc72a",
   "metadata": {},
   "outputs": [],
   "source": [
    "data = pd.read_csv(\"GPT-wiki-intro.csv\")"
   ]
  },
  {
   "cell_type": "code",
   "execution_count": 3,
   "id": "8beafb8e",
   "metadata": {},
   "outputs": [],
   "source": [
    "data = data[:100000]"
   ]
  },
  {
   "cell_type": "code",
   "execution_count": 4,
   "id": "ef595c2a",
   "metadata": {},
   "outputs": [],
   "source": [
    "intro = []\n",
    "target = []"
   ]
  },
  {
   "cell_type": "code",
   "execution_count": 5,
   "id": "e0d8e881",
   "metadata": {},
   "outputs": [],
   "source": [
    "for i in data[\"wiki_intro\"]:\n",
    "    intro.append(i)\n",
    "    target.append(0)\n",
    "for j in data[\"generated_intro\"]:\n",
    "    intro.append(j)\n",
    "    target.append(1)"
   ]
  },
  {
   "cell_type": "code",
   "execution_count": 6,
   "id": "7641a781",
   "metadata": {},
   "outputs": [],
   "source": [
    "intros = np.array(intro)\n",
    "targets = np.array(target)"
   ]
  },
  {
   "cell_type": "code",
   "execution_count": 7,
   "id": "02791334",
   "metadata": {},
   "outputs": [
    {
     "data": {
      "text/html": [
       "<div>\n",
       "<style scoped>\n",
       "    .dataframe tbody tr th:only-of-type {\n",
       "        vertical-align: middle;\n",
       "    }\n",
       "\n",
       "    .dataframe tbody tr th {\n",
       "        vertical-align: top;\n",
       "    }\n",
       "\n",
       "    .dataframe thead th {\n",
       "        text-align: right;\n",
       "    }\n",
       "</style>\n",
       "<table border=\"1\" class=\"dataframe\">\n",
       "  <thead>\n",
       "    <tr style=\"text-align: right;\">\n",
       "      <th></th>\n",
       "      <th>0</th>\n",
       "    </tr>\n",
       "  </thead>\n",
       "  <tbody>\n",
       "    <tr>\n",
       "      <th>0</th>\n",
       "      <td>Sexhow railway station was a railway station b...</td>\n",
       "    </tr>\n",
       "    <tr>\n",
       "      <th>0</th>\n",
       "      <td>In Finnish folklore, all places and things, an...</td>\n",
       "    </tr>\n",
       "    <tr>\n",
       "      <th>0</th>\n",
       "      <td>In mathematics, specifically differential calc...</td>\n",
       "    </tr>\n",
       "    <tr>\n",
       "      <th>0</th>\n",
       "      <td>is a Japanese shōjo manga series written and i...</td>\n",
       "    </tr>\n",
       "    <tr>\n",
       "      <th>0</th>\n",
       "      <td>Robert Milner \"Rob\" Bradley, Jr. (born August ...</td>\n",
       "    </tr>\n",
       "    <tr>\n",
       "      <th>...</th>\n",
       "      <td>...</td>\n",
       "    </tr>\n",
       "    <tr>\n",
       "      <th>1</th>\n",
       "      <td>Hero Squad is a children's television programm...</td>\n",
       "    </tr>\n",
       "    <tr>\n",
       "      <th>1</th>\n",
       "      <td>The Regulators is a novel by American author S...</td>\n",
       "    </tr>\n",
       "    <tr>\n",
       "      <th>1</th>\n",
       "      <td>The Caledonian Estate is a Grade II listed bui...</td>\n",
       "    </tr>\n",
       "    <tr>\n",
       "      <th>1</th>\n",
       "      <td>An orienteering course is composed of a series...</td>\n",
       "    </tr>\n",
       "    <tr>\n",
       "      <th>1</th>\n",
       "      <td>Table Bluff (Wiyot: Giloulh) is a semi-flat, v...</td>\n",
       "    </tr>\n",
       "  </tbody>\n",
       "</table>\n",
       "<p>200000 rows × 1 columns</p>\n",
       "</div>"
      ],
      "text/plain": [
       "                                                    0\n",
       "0   Sexhow railway station was a railway station b...\n",
       "0   In Finnish folklore, all places and things, an...\n",
       "0   In mathematics, specifically differential calc...\n",
       "0   is a Japanese shōjo manga series written and i...\n",
       "0   Robert Milner \"Rob\" Bradley, Jr. (born August ...\n",
       "..                                                ...\n",
       "1   Hero Squad is a children's television programm...\n",
       "1   The Regulators is a novel by American author S...\n",
       "1   The Caledonian Estate is a Grade II listed bui...\n",
       "1   An orienteering course is composed of a series...\n",
       "1   Table Bluff (Wiyot: Giloulh) is a semi-flat, v...\n",
       "\n",
       "[200000 rows x 1 columns]"
      ]
     },
     "execution_count": 7,
     "metadata": {},
     "output_type": "execute_result"
    }
   ],
   "source": [
    "pd.DataFrame(intros, targets )"
   ]
  },
  {
   "cell_type": "code",
   "execution_count": 7,
   "id": "d8a3a187",
   "metadata": {},
   "outputs": [],
   "source": [
    "from sklearn.model_selection import train_test_split\n",
    "X_train, X_test, y_train, y_test = train_test_split(intros, targets, test_size=0.2, random_state=42)"
   ]
  },
  {
   "cell_type": "code",
   "execution_count": 9,
   "id": "73ce7c30",
   "metadata": {},
   "outputs": [
    {
     "data": {
      "text/html": [
       "<div>\n",
       "<style scoped>\n",
       "    .dataframe tbody tr th:only-of-type {\n",
       "        vertical-align: middle;\n",
       "    }\n",
       "\n",
       "    .dataframe tbody tr th {\n",
       "        vertical-align: top;\n",
       "    }\n",
       "\n",
       "    .dataframe thead th {\n",
       "        text-align: right;\n",
       "    }\n",
       "</style>\n",
       "<table border=\"1\" class=\"dataframe\">\n",
       "  <thead>\n",
       "    <tr style=\"text-align: right;\">\n",
       "      <th></th>\n",
       "      <th>0</th>\n",
       "    </tr>\n",
       "  </thead>\n",
       "  <tbody>\n",
       "    <tr>\n",
       "      <th>1</th>\n",
       "      <td>The Sábato triangle  is a model used in atmosp...</td>\n",
       "    </tr>\n",
       "    <tr>\n",
       "      <th>0</th>\n",
       "      <td>Dato' Haji Ahmad bin Lebai Sudin (born 11 Nove...</td>\n",
       "    </tr>\n",
       "    <tr>\n",
       "      <th>1</th>\n",
       "      <td>The 77s (alternatively spelled the Seventy Sev...</td>\n",
       "    </tr>\n",
       "    <tr>\n",
       "      <th>1</th>\n",
       "      <td>Will Flemons is an American former college bas...</td>\n",
       "    </tr>\n",
       "    <tr>\n",
       "      <th>1</th>\n",
       "      <td>Marie Ussing Nylen is a Danish-American biolog...</td>\n",
       "    </tr>\n",
       "    <tr>\n",
       "      <th>...</th>\n",
       "      <td>...</td>\n",
       "    </tr>\n",
       "    <tr>\n",
       "      <th>1</th>\n",
       "      <td>Camille Arambourg ( February 3, 1885– November...</td>\n",
       "    </tr>\n",
       "    <tr>\n",
       "      <th>1</th>\n",
       "      <td>Sandra Adams Dodd (born July 24, 1953, in Palo...</td>\n",
       "    </tr>\n",
       "    <tr>\n",
       "      <th>1</th>\n",
       "      <td>Victor Lagye (20 June 1825, in Ghent – 11 Marc...</td>\n",
       "    </tr>\n",
       "    <tr>\n",
       "      <th>1</th>\n",
       "      <td>The Talbot effect is a diffraction effect in w...</td>\n",
       "    </tr>\n",
       "    <tr>\n",
       "      <th>1</th>\n",
       "      <td>Stevenson-Pincince Field is a stadium in Provi...</td>\n",
       "    </tr>\n",
       "  </tbody>\n",
       "</table>\n",
       "<p>160000 rows × 1 columns</p>\n",
       "</div>"
      ],
      "text/plain": [
       "                                                    0\n",
       "1   The Sábato triangle  is a model used in atmosp...\n",
       "0   Dato' Haji Ahmad bin Lebai Sudin (born 11 Nove...\n",
       "1   The 77s (alternatively spelled the Seventy Sev...\n",
       "1   Will Flemons is an American former college bas...\n",
       "1   Marie Ussing Nylen is a Danish-American biolog...\n",
       "..                                                ...\n",
       "1   Camille Arambourg ( February 3, 1885– November...\n",
       "1   Sandra Adams Dodd (born July 24, 1953, in Palo...\n",
       "1   Victor Lagye (20 June 1825, in Ghent – 11 Marc...\n",
       "1   The Talbot effect is a diffraction effect in w...\n",
       "1   Stevenson-Pincince Field is a stadium in Provi...\n",
       "\n",
       "[160000 rows x 1 columns]"
      ]
     },
     "execution_count": 9,
     "metadata": {},
     "output_type": "execute_result"
    }
   ],
   "source": [
    "pd.DataFrame(X_train, y_train)"
   ]
  },
  {
   "cell_type": "code",
   "execution_count": 8,
   "id": "9efea79d",
   "metadata": {},
   "outputs": [],
   "source": [
    "# Ici je recupere le \"vectorizer\" que j'avais deja mis en place et que j'ai sauvegarder dans le meme emplacement\n",
    "vectorizer = joblib.load(\"vectorizer\") "
   ]
  },
  {
   "cell_type": "code",
   "execution_count": 9,
   "id": "1673f829",
   "metadata": {},
   "outputs": [],
   "source": [
    "# Ici J'applique ce \"vectorizer\" directement sur les données de test et d'entrainement\n",
    "X_train_preprocessed = vectorizer.transform(X_train)\n",
    "X_test_preprocessed = vectorizer.transform(X_test)\n",
    "\n",
    "# Voila desormais on ne travaille plus avec X_train et X_test Mais avc X_train_preprocessed pour l'entrainement\n",
    "# Et avec X_test_preprocessed pour les données de Test"
   ]
  },
  {
   "cell_type": "code",
   "execution_count": 12,
   "id": "9c46c3ce",
   "metadata": {},
   "outputs": [
    {
     "data": {
      "text/plain": [
       "<160000x407976 sparse matrix of type '<class 'numpy.int64'>'\n",
       "\twith 15133953 stored elements in Compressed Sparse Row format>"
      ]
     },
     "execution_count": 12,
     "metadata": {},
     "output_type": "execute_result"
    }
   ],
   "source": [
    "X_train_preprocessed"
   ]
  },
  {
   "cell_type": "code",
   "execution_count": 13,
   "id": "bf4a83c3",
   "metadata": {},
   "outputs": [
    {
     "data": {
      "text/plain": [
       "<40000x407976 sparse matrix of type '<class 'numpy.int64'>'\n",
       "\twith 3713740 stored elements in Compressed Sparse Row format>"
      ]
     },
     "execution_count": 13,
     "metadata": {},
     "output_type": "execute_result"
    }
   ],
   "source": [
    "X_test_preprocessed"
   ]
  },
  {
   "cell_type": "code",
   "execution_count": 14,
   "id": "ebdd8789",
   "metadata": {},
   "outputs": [],
   "source": [
    "# J'ai tester les nouveaux donnée et c'est la meme chose que ce que j'avais eu donc c'est bon "
   ]
  },
  {
   "cell_type": "code",
   "execution_count": 15,
   "id": "c606eca6",
   "metadata": {},
   "outputs": [],
   "source": [
    "from sklearn.ensemble import RandomForestClassifier, ExtraTreesClassifier\n",
    "from sklearn.svm import SVC\n",
    "from sklearn.metrics import accuracy_score"
   ]
  },
  {
   "cell_type": "code",
   "execution_count": 16,
   "id": "e5a5c5bc",
   "metadata": {},
   "outputs": [],
   "source": [
    "random_forest = RandomForestClassifier(n_estimators=150)"
   ]
  },
  {
   "cell_type": "code",
   "execution_count": 17,
   "id": "1f34da9f",
   "metadata": {},
   "outputs": [],
   "source": [
    "t1 = time.time()\n",
    "random_forest.fit(X_train_preprocessed, y_train)\n",
    "t2 = time.time()"
   ]
  },
  {
   "cell_type": "code",
   "execution_count": 18,
   "id": "39bfa102",
   "metadata": {},
   "outputs": [
    {
     "data": {
      "text/plain": [
       "37.95922549168269"
      ]
     },
     "execution_count": 18,
     "metadata": {},
     "output_type": "execute_result"
    }
   ],
   "source": [
    "(t2-t1)/60"
   ]
  },
  {
   "cell_type": "code",
   "execution_count": null,
   "id": "e1e73abf",
   "metadata": {},
   "outputs": [],
   "source": [
    "joblib.dump(random_forest, 'random_forest')"
   ]
  },
  {
   "cell_type": "code",
   "execution_count": 20,
   "id": "092ebcac",
   "metadata": {},
   "outputs": [
    {
     "name": "stdout",
     "output_type": "stream",
     "text": [
      "Accuracy: 0.90665\n"
     ]
    }
   ],
   "source": [
    "# Prédictions sur l'ensemble de test\n",
    "y_pred = random_forest.predict(X_test_preprocessed)\n",
    "\n",
    "# Évaluation des performances\n",
    "accuracy = accuracy_score(y_test, y_pred)\n",
    "print(\"Accuracy:\", accuracy)"
   ]
  },
  {
   "cell_type": "code",
   "execution_count": 12,
   "id": "0859d10c",
   "metadata": {},
   "outputs": [],
   "source": [
    "model = joblib.load(\"random_forest\") "
   ]
  },
  {
   "cell_type": "code",
   "execution_count": 15,
   "id": "e50499dc",
   "metadata": {},
   "outputs": [
    {
     "name": "stdout",
     "output_type": "stream",
     "text": [
      "              precision    recall  f1-score   support\n",
      "\n",
      "           0       0.92      0.89      0.91     19993\n",
      "           1       0.89      0.92      0.91     20007\n",
      "\n",
      "    accuracy                           0.91     40000\n",
      "   macro avg       0.91      0.91      0.91     40000\n",
      "weighted avg       0.91      0.91      0.91     40000\n",
      "\n"
     ]
    }
   ],
   "source": [
    "y_pred = model.predict(X_test_preprocessed)\n",
    "\n",
    "# Afficher le rapport de classification\n",
    "print(classification_report(y_test, y_pred))"
   ]
  }
 ],
 "metadata": {
  "kernelspec": {
   "display_name": "Python 3 (ipykernel)",
   "language": "python",
   "name": "python3"
  },
  "language_info": {
   "codemirror_mode": {
    "name": "ipython",
    "version": 3
   },
   "file_extension": ".py",
   "mimetype": "text/x-python",
   "name": "python",
   "nbconvert_exporter": "python",
   "pygments_lexer": "ipython3",
   "version": "3.10.6"
  }
 },
 "nbformat": 4,
 "nbformat_minor": 5
}
