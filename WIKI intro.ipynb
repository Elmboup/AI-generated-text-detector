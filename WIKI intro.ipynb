{
 "cells": [
  {
   "cell_type": "code",
   "execution_count": 1,
   "id": "bfcee2bc",
   "metadata": {},
   "outputs": [],
   "source": [
    "import numpy as np\n",
    "import pandas as pd"
   ]
  },
  {
   "cell_type": "code",
   "execution_count": 2,
   "id": "140700dd",
   "metadata": {},
   "outputs": [],
   "source": [
    "data = pd.read_csv(\"GPT-wiki-intro.csv\")"
   ]
  },
  {
   "cell_type": "code",
   "execution_count": 3,
   "id": "44f53404",
   "metadata": {},
   "outputs": [],
   "source": [
    "data = data[:100000]"
   ]
  },
  {
   "cell_type": "code",
   "execution_count": 4,
   "id": "44d3c12e",
   "metadata": {},
   "outputs": [
    {
     "data": {
      "text/html": [
       "<div>\n",
       "<style scoped>\n",
       "    .dataframe tbody tr th:only-of-type {\n",
       "        vertical-align: middle;\n",
       "    }\n",
       "\n",
       "    .dataframe tbody tr th {\n",
       "        vertical-align: top;\n",
       "    }\n",
       "\n",
       "    .dataframe thead th {\n",
       "        text-align: right;\n",
       "    }\n",
       "</style>\n",
       "<table border=\"1\" class=\"dataframe\">\n",
       "  <thead>\n",
       "    <tr style=\"text-align: right;\">\n",
       "      <th></th>\n",
       "      <th>id</th>\n",
       "      <th>url</th>\n",
       "      <th>title</th>\n",
       "      <th>wiki_intro</th>\n",
       "      <th>generated_intro</th>\n",
       "      <th>title_len</th>\n",
       "      <th>wiki_intro_len</th>\n",
       "      <th>generated_intro_len</th>\n",
       "      <th>prompt</th>\n",
       "      <th>generated_text</th>\n",
       "      <th>prompt_tokens</th>\n",
       "      <th>generated_text_tokens</th>\n",
       "    </tr>\n",
       "  </thead>\n",
       "  <tbody>\n",
       "    <tr>\n",
       "      <th>0</th>\n",
       "      <td>63064638</td>\n",
       "      <td>https://en.wikipedia.org/wiki/Sexhow%20railway...</td>\n",
       "      <td>Sexhow railway station</td>\n",
       "      <td>Sexhow railway station was a railway station b...</td>\n",
       "      <td>Sexhow railway station was a railway station l...</td>\n",
       "      <td>3</td>\n",
       "      <td>174</td>\n",
       "      <td>78</td>\n",
       "      <td>200 word wikipedia style introduction on 'Sexh...</td>\n",
       "      <td>located in the town of Sexhow, on the Cumbria...</td>\n",
       "      <td>25</td>\n",
       "      <td>88</td>\n",
       "    </tr>\n",
       "    <tr>\n",
       "      <th>1</th>\n",
       "      <td>279621</td>\n",
       "      <td>https://en.wikipedia.org/wiki/Eti%C3%A4inen</td>\n",
       "      <td>Etiäinen</td>\n",
       "      <td>In Finnish folklore, all places and things, an...</td>\n",
       "      <td>In Finnish folklore, all places and things, an...</td>\n",
       "      <td>1</td>\n",
       "      <td>187</td>\n",
       "      <td>80</td>\n",
       "      <td>200 word wikipedia style introduction on 'Etiä...</td>\n",
       "      <td>animate or inanimate, have a spirit or \"etiäi...</td>\n",
       "      <td>26</td>\n",
       "      <td>101</td>\n",
       "    </tr>\n",
       "    <tr>\n",
       "      <th>2</th>\n",
       "      <td>287229</td>\n",
       "      <td>https://en.wikipedia.org/wiki/Inverse%20functi...</td>\n",
       "      <td>Inverse function theorem</td>\n",
       "      <td>In mathematics, specifically differential calc...</td>\n",
       "      <td>In mathematics, specifically differential calc...</td>\n",
       "      <td>3</td>\n",
       "      <td>170</td>\n",
       "      <td>59</td>\n",
       "      <td>200 word wikipedia style introduction on 'Inve...</td>\n",
       "      <td>function theorem states that for every real-v...</td>\n",
       "      <td>26</td>\n",
       "      <td>65</td>\n",
       "    </tr>\n",
       "    <tr>\n",
       "      <th>3</th>\n",
       "      <td>26712375</td>\n",
       "      <td>https://en.wikipedia.org/wiki/Stepping%20on%20...</td>\n",
       "      <td>Stepping on Roses</td>\n",
       "      <td>is a Japanese shōjo manga series written and i...</td>\n",
       "      <td>is a Japanese shōjo manga series written and i...</td>\n",
       "      <td>3</td>\n",
       "      <td>335</td>\n",
       "      <td>121</td>\n",
       "      <td>200 word wikipedia style introduction on 'Step...</td>\n",
       "      <td>and illustrated by Maki Fujii. The series fol...</td>\n",
       "      <td>26</td>\n",
       "      <td>150</td>\n",
       "    </tr>\n",
       "    <tr>\n",
       "      <th>4</th>\n",
       "      <td>38894426</td>\n",
       "      <td>https://en.wikipedia.org/wiki/Rob%20Bradley</td>\n",
       "      <td>Rob Bradley</td>\n",
       "      <td>Robert Milner \"Rob\" Bradley, Jr. (born August ...</td>\n",
       "      <td>Robert Milner \"Rob\" Bradley, Jr. (born August ...</td>\n",
       "      <td>2</td>\n",
       "      <td>170</td>\n",
       "      <td>136</td>\n",
       "      <td>200 word wikipedia style introduction on 'Rob ...</td>\n",
       "      <td>29, 1973) is an American former professional ...</td>\n",
       "      <td>28</td>\n",
       "      <td>162</td>\n",
       "    </tr>\n",
       "    <tr>\n",
       "      <th>...</th>\n",
       "      <td>...</td>\n",
       "      <td>...</td>\n",
       "      <td>...</td>\n",
       "      <td>...</td>\n",
       "      <td>...</td>\n",
       "      <td>...</td>\n",
       "      <td>...</td>\n",
       "      <td>...</td>\n",
       "      <td>...</td>\n",
       "      <td>...</td>\n",
       "      <td>...</td>\n",
       "      <td>...</td>\n",
       "    </tr>\n",
       "    <tr>\n",
       "      <th>99995</th>\n",
       "      <td>38050027</td>\n",
       "      <td>https://en.wikipedia.org/wiki/Hero%20Squad</td>\n",
       "      <td>Hero Squad</td>\n",
       "      <td>Hero Squad is a children's television programm...</td>\n",
       "      <td>Hero Squad is a children's television programm...</td>\n",
       "      <td>2</td>\n",
       "      <td>183</td>\n",
       "      <td>124</td>\n",
       "      <td>200 word wikipedia style introduction on 'Hero...</td>\n",
       "      <td>that airs on Nickelodeon in the United States...</td>\n",
       "      <td>23</td>\n",
       "      <td>153</td>\n",
       "    </tr>\n",
       "    <tr>\n",
       "      <th>99996</th>\n",
       "      <td>535861</td>\n",
       "      <td>https://en.wikipedia.org/wiki/The%20Regulators...</td>\n",
       "      <td>The Regulators (novel)</td>\n",
       "      <td>The Regulators is a novel by American author S...</td>\n",
       "      <td>The Regulators is a novel by American author S...</td>\n",
       "      <td>3</td>\n",
       "      <td>159</td>\n",
       "      <td>86</td>\n",
       "      <td>200 word wikipedia style introduction on 'The ...</td>\n",
       "      <td>author Stephen King. It is set in the fiction...</td>\n",
       "      <td>27</td>\n",
       "      <td>98</td>\n",
       "    </tr>\n",
       "    <tr>\n",
       "      <th>99997</th>\n",
       "      <td>42257728</td>\n",
       "      <td>https://en.wikipedia.org/wiki/Caledonian%20Estate</td>\n",
       "      <td>Caledonian Estate</td>\n",
       "      <td>The Caledonian Estate is a Grade II listed, ea...</td>\n",
       "      <td>The Caledonian Estate is a Grade II listed bui...</td>\n",
       "      <td>2</td>\n",
       "      <td>151</td>\n",
       "      <td>58</td>\n",
       "      <td>200 word wikipedia style introduction on 'Cale...</td>\n",
       "      <td>listed building located in the Scottish city ...</td>\n",
       "      <td>26</td>\n",
       "      <td>65</td>\n",
       "    </tr>\n",
       "    <tr>\n",
       "      <th>99998</th>\n",
       "      <td>19551524</td>\n",
       "      <td>https://en.wikipedia.org/wiki/Course%20%28orie...</td>\n",
       "      <td>Course (orienteering)</td>\n",
       "      <td>An orienteering course is composed of a start ...</td>\n",
       "      <td>An orienteering course is composed of a series...</td>\n",
       "      <td>2</td>\n",
       "      <td>183</td>\n",
       "      <td>205</td>\n",
       "      <td>200 word wikipedia style introduction on 'Cour...</td>\n",
       "      <td>series of checkpoints, or observation points,...</td>\n",
       "      <td>25</td>\n",
       "      <td>245</td>\n",
       "    </tr>\n",
       "    <tr>\n",
       "      <th>99999</th>\n",
       "      <td>11889099</td>\n",
       "      <td>https://en.wikipedia.org/wiki/Table%20Bluff%20...</td>\n",
       "      <td>Table Bluff (California)</td>\n",
       "      <td>Table Bluff (Wiyot: Giloulh) is a semi-flat te...</td>\n",
       "      <td>Table Bluff (Wiyot: Giloulh) is a semi-flat, v...</td>\n",
       "      <td>3</td>\n",
       "      <td>179</td>\n",
       "      <td>93</td>\n",
       "      <td>200 word wikipedia style introduction on 'Tabl...</td>\n",
       "      <td>, volcanic butte in Humboldt County, Californi...</td>\n",
       "      <td>35</td>\n",
       "      <td>125</td>\n",
       "    </tr>\n",
       "  </tbody>\n",
       "</table>\n",
       "<p>100000 rows × 12 columns</p>\n",
       "</div>"
      ],
      "text/plain": [
       "             id                                                url  \\\n",
       "0      63064638  https://en.wikipedia.org/wiki/Sexhow%20railway...   \n",
       "1        279621        https://en.wikipedia.org/wiki/Eti%C3%A4inen   \n",
       "2        287229  https://en.wikipedia.org/wiki/Inverse%20functi...   \n",
       "3      26712375  https://en.wikipedia.org/wiki/Stepping%20on%20...   \n",
       "4      38894426        https://en.wikipedia.org/wiki/Rob%20Bradley   \n",
       "...         ...                                                ...   \n",
       "99995  38050027         https://en.wikipedia.org/wiki/Hero%20Squad   \n",
       "99996    535861  https://en.wikipedia.org/wiki/The%20Regulators...   \n",
       "99997  42257728  https://en.wikipedia.org/wiki/Caledonian%20Estate   \n",
       "99998  19551524  https://en.wikipedia.org/wiki/Course%20%28orie...   \n",
       "99999  11889099  https://en.wikipedia.org/wiki/Table%20Bluff%20...   \n",
       "\n",
       "                          title  \\\n",
       "0        Sexhow railway station   \n",
       "1                      Etiäinen   \n",
       "2      Inverse function theorem   \n",
       "3             Stepping on Roses   \n",
       "4                   Rob Bradley   \n",
       "...                         ...   \n",
       "99995                Hero Squad   \n",
       "99996    The Regulators (novel)   \n",
       "99997         Caledonian Estate   \n",
       "99998     Course (orienteering)   \n",
       "99999  Table Bluff (California)   \n",
       "\n",
       "                                              wiki_intro  \\\n",
       "0      Sexhow railway station was a railway station b...   \n",
       "1      In Finnish folklore, all places and things, an...   \n",
       "2      In mathematics, specifically differential calc...   \n",
       "3      is a Japanese shōjo manga series written and i...   \n",
       "4      Robert Milner \"Rob\" Bradley, Jr. (born August ...   \n",
       "...                                                  ...   \n",
       "99995  Hero Squad is a children's television programm...   \n",
       "99996  The Regulators is a novel by American author S...   \n",
       "99997  The Caledonian Estate is a Grade II listed, ea...   \n",
       "99998  An orienteering course is composed of a start ...   \n",
       "99999  Table Bluff (Wiyot: Giloulh) is a semi-flat te...   \n",
       "\n",
       "                                         generated_intro  title_len  \\\n",
       "0      Sexhow railway station was a railway station l...          3   \n",
       "1      In Finnish folklore, all places and things, an...          1   \n",
       "2      In mathematics, specifically differential calc...          3   \n",
       "3      is a Japanese shōjo manga series written and i...          3   \n",
       "4      Robert Milner \"Rob\" Bradley, Jr. (born August ...          2   \n",
       "...                                                  ...        ...   \n",
       "99995  Hero Squad is a children's television programm...          2   \n",
       "99996  The Regulators is a novel by American author S...          3   \n",
       "99997  The Caledonian Estate is a Grade II listed bui...          2   \n",
       "99998  An orienteering course is composed of a series...          2   \n",
       "99999  Table Bluff (Wiyot: Giloulh) is a semi-flat, v...          3   \n",
       "\n",
       "       wiki_intro_len  generated_intro_len  \\\n",
       "0                 174                   78   \n",
       "1                 187                   80   \n",
       "2                 170                   59   \n",
       "3                 335                  121   \n",
       "4                 170                  136   \n",
       "...               ...                  ...   \n",
       "99995             183                  124   \n",
       "99996             159                   86   \n",
       "99997             151                   58   \n",
       "99998             183                  205   \n",
       "99999             179                   93   \n",
       "\n",
       "                                                  prompt  \\\n",
       "0      200 word wikipedia style introduction on 'Sexh...   \n",
       "1      200 word wikipedia style introduction on 'Etiä...   \n",
       "2      200 word wikipedia style introduction on 'Inve...   \n",
       "3      200 word wikipedia style introduction on 'Step...   \n",
       "4      200 word wikipedia style introduction on 'Rob ...   \n",
       "...                                                  ...   \n",
       "99995  200 word wikipedia style introduction on 'Hero...   \n",
       "99996  200 word wikipedia style introduction on 'The ...   \n",
       "99997  200 word wikipedia style introduction on 'Cale...   \n",
       "99998  200 word wikipedia style introduction on 'Cour...   \n",
       "99999  200 word wikipedia style introduction on 'Tabl...   \n",
       "\n",
       "                                          generated_text  prompt_tokens  \\\n",
       "0       located in the town of Sexhow, on the Cumbria...             25   \n",
       "1       animate or inanimate, have a spirit or \"etiäi...             26   \n",
       "2       function theorem states that for every real-v...             26   \n",
       "3       and illustrated by Maki Fujii. The series fol...             26   \n",
       "4       29, 1973) is an American former professional ...             28   \n",
       "...                                                  ...            ...   \n",
       "99995   that airs on Nickelodeon in the United States...             23   \n",
       "99996   author Stephen King. It is set in the fiction...             27   \n",
       "99997   listed building located in the Scottish city ...             26   \n",
       "99998   series of checkpoints, or observation points,...             25   \n",
       "99999  , volcanic butte in Humboldt County, Californi...             35   \n",
       "\n",
       "       generated_text_tokens  \n",
       "0                         88  \n",
       "1                        101  \n",
       "2                         65  \n",
       "3                        150  \n",
       "4                        162  \n",
       "...                      ...  \n",
       "99995                    153  \n",
       "99996                     98  \n",
       "99997                     65  \n",
       "99998                    245  \n",
       "99999                    125  \n",
       "\n",
       "[100000 rows x 12 columns]"
      ]
     },
     "execution_count": 4,
     "metadata": {},
     "output_type": "execute_result"
    }
   ],
   "source": [
    "data"
   ]
  },
  {
   "cell_type": "code",
   "execution_count": 5,
   "id": "da152557",
   "metadata": {},
   "outputs": [],
   "source": [
    "intro = []\n",
    "target = []"
   ]
  },
  {
   "cell_type": "code",
   "execution_count": 6,
   "id": "d21aaea5",
   "metadata": {},
   "outputs": [],
   "source": [
    "for i in data[\"wiki_intro\"]:\n",
    "    intro.append(i)\n",
    "    target.append(0)\n",
    "for j in data[\"generated_intro\"]:\n",
    "    intro.append(j)\n",
    "    target.append(1)"
   ]
  },
  {
   "cell_type": "code",
   "execution_count": null,
   "id": "71d24a07",
   "metadata": {},
   "outputs": [],
   "source": []
  },
  {
   "cell_type": "code",
   "execution_count": 7,
   "id": "5e4c2c69",
   "metadata": {},
   "outputs": [],
   "source": [
    "intros = np.array(intro)\n",
    "targets = np.array(target)"
   ]
  },
  {
   "cell_type": "code",
   "execution_count": 8,
   "id": "1fffe021",
   "metadata": {},
   "outputs": [
    {
     "data": {
      "text/plain": [
       "(200000,)"
      ]
     },
     "execution_count": 8,
     "metadata": {},
     "output_type": "execute_result"
    }
   ],
   "source": [
    "intros.shape"
   ]
  },
  {
   "cell_type": "code",
   "execution_count": null,
   "id": "8c988245",
   "metadata": {},
   "outputs": [],
   "source": []
  },
  {
   "cell_type": "code",
   "execution_count": 9,
   "id": "04fa30f7",
   "metadata": {},
   "outputs": [],
   "source": [
    "from sklearn.model_selection import train_test_split,  GridSearchCV\n",
    "from sklearn.metrics import accuracy_score\n",
    "from sklearn import neighbors\n",
    "from sklearn.ensemble import RandomForestClassifier, ExtraTreesClassifier\n",
    "from sklearn.svm import SVC\n",
    "import time\n",
    "from sklearn.ensemble import VotingClassifier\n",
    "from sklearn.feature_extraction.text import CountVectorizer\n"
   ]
  },
  {
   "cell_type": "code",
   "execution_count": null,
   "id": "6ff9a175",
   "metadata": {},
   "outputs": [],
   "source": []
  },
  {
   "cell_type": "code",
   "execution_count": 10,
   "id": "29c831c1",
   "metadata": {},
   "outputs": [],
   "source": [
    "X_train, X_test, y_train, y_test = train_test_split(intros, targets, test_size=0.2, random_state=42)"
   ]
  },
  {
   "cell_type": "code",
   "execution_count": 11,
   "id": "b11ba031",
   "metadata": {},
   "outputs": [
    {
     "data": {
      "text/plain": [
       "(160000,)"
      ]
     },
     "execution_count": 11,
     "metadata": {},
     "output_type": "execute_result"
    }
   ],
   "source": [
    "X_train.shape"
   ]
  },
  {
   "cell_type": "code",
   "execution_count": null,
   "id": "741b2c17",
   "metadata": {},
   "outputs": [],
   "source": []
  },
  {
   "cell_type": "code",
   "execution_count": 12,
   "id": "0ced6d53",
   "metadata": {},
   "outputs": [],
   "source": [
    "# Créer un pipeline de préparation de données\n",
    "vectorizer = CountVectorizer()  # Utiliser la représentation Bag-of-Words\n",
    "X_train_preprocessed = vectorizer.fit_transform(X_train)\n",
    "X_test_preprocessed = vectorizer.transform(X_test)"
   ]
  },
  {
   "cell_type": "code",
   "execution_count": 13,
   "id": "fcaec0e5",
   "metadata": {},
   "outputs": [
    {
     "data": {
      "text/plain": [
       "<160000x407976 sparse matrix of type '<class 'numpy.int64'>'\n",
       "\twith 15133953 stored elements in Compressed Sparse Row format>"
      ]
     },
     "execution_count": 13,
     "metadata": {},
     "output_type": "execute_result"
    }
   ],
   "source": [
    "X_train_preprocessed"
   ]
  },
  {
   "cell_type": "code",
   "execution_count": 14,
   "id": "2ea2042c",
   "metadata": {},
   "outputs": [
    {
     "data": {
      "text/plain": [
       "<40000x407976 sparse matrix of type '<class 'numpy.int64'>'\n",
       "\twith 3713740 stored elements in Compressed Sparse Row format>"
      ]
     },
     "execution_count": 14,
     "metadata": {},
     "output_type": "execute_result"
    }
   ],
   "source": [
    "X_test_preprocessed"
   ]
  },
  {
   "cell_type": "code",
   "execution_count": null,
   "id": "ce6149df",
   "metadata": {},
   "outputs": [],
   "source": []
  },
  {
   "cell_type": "code",
   "execution_count": 15,
   "id": "1d162659",
   "metadata": {},
   "outputs": [
    {
     "data": {
      "text/plain": [
       "['vectorizer']"
      ]
     },
     "execution_count": 15,
     "metadata": {},
     "output_type": "execute_result"
    }
   ],
   "source": [
    "import joblib\n",
    "joblib.dump(vectorizer, 'vectorizer')"
   ]
  },
  {
   "cell_type": "code",
   "execution_count": null,
   "id": "fa1df481",
   "metadata": {},
   "outputs": [],
   "source": []
  },
  {
   "cell_type": "code",
   "execution_count": null,
   "id": "0017d349",
   "metadata": {},
   "outputs": [],
   "source": []
  },
  {
   "cell_type": "code",
   "execution_count": 16,
   "id": "ae646ed5",
   "metadata": {},
   "outputs": [],
   "source": [
    "random_forest = RandomForestClassifier(n_estimators=100)\n",
    "t1 = time.time()\n",
    "random_forest.fit(X_train_preprocessed, y_train)\n",
    "t2 = time.time()"
   ]
  },
  {
   "cell_type": "code",
   "execution_count": null,
   "id": "a1783c0d",
   "metadata": {},
   "outputs": [],
   "source": []
  },
  {
   "cell_type": "code",
   "execution_count": 17,
   "id": "17ca16b5",
   "metadata": {
    "scrolled": true
   },
   "outputs": [
    {
     "data": {
      "text/plain": [
       "1396.2612698078156"
      ]
     },
     "execution_count": 17,
     "metadata": {},
     "output_type": "execute_result"
    }
   ],
   "source": [
    "t2-t1"
   ]
  },
  {
   "cell_type": "code",
   "execution_count": 18,
   "id": "4e2b42de",
   "metadata": {},
   "outputs": [
    {
     "name": "stdout",
     "output_type": "stream",
     "text": [
      "Accuracy: 0.9062\n"
     ]
    }
   ],
   "source": [
    "# Prédictions sur l'ensemble de test\n",
    "y_pred = random_forest.predict(X_test_preprocessed)\n",
    "\n",
    "# Évaluation des performances\n",
    "accuracy = accuracy_score(y_test, y_pred)\n",
    "print(\"Accuracy:\", accuracy)"
   ]
  }
 ],
 "metadata": {
  "kernelspec": {
   "display_name": "Python 3 (ipykernel)",
   "language": "python",
   "name": "python3"
  },
  "language_info": {
   "codemirror_mode": {
    "name": "ipython",
    "version": 3
   },
   "file_extension": ".py",
   "mimetype": "text/x-python",
   "name": "python",
   "nbconvert_exporter": "python",
   "pygments_lexer": "ipython3",
   "version": "3.10.6"
  }
 },
 "nbformat": 4,
 "nbformat_minor": 5
}
